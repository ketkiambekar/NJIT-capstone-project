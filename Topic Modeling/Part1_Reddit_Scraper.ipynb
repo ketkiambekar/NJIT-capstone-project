{
  "nbformat": 4,
  "nbformat_minor": 0,
  "metadata": {
    "colab": {
      "name": "Reddit_Scraper.ipynb",
      "provenance": [],
      "authorship_tag": "ABX9TyMyb6QFMNa1SphPxcYXgGUr",
      "include_colab_link": true
    },
    "kernelspec": {
      "name": "python3",
      "display_name": "Python 3"
    }
  },
  "cells": [
    {
      "cell_type": "markdown",
      "metadata": {
        "id": "view-in-github",
        "colab_type": "text"
      },
      "source": [
        "<a href=\"https://colab.research.google.com/github/eveapp/data_science/blob/Ketki/Topic%20Classification%20F20/Topic%20Modeling/Reddit_Scraper.ipynb\" target=\"_parent\"><img src=\"https://colab.research.google.com/assets/colab-badge.svg\" alt=\"Open In Colab\"/></a>"
      ]
    },
    {
      "cell_type": "markdown",
      "metadata": {
        "id": "ho3VPYTtSep2"
      },
      "source": [
        "This Notebook scrapes top 1000 posts from any subreddits and saves them to a csv file."
      ]
    },
    {
      "cell_type": "code",
      "metadata": {
        "id": "1mUToK3uPxE9"
      },
      "source": [
        "Client_ID = \"Hidden\"\n",
        "Client_Secret = \"Hidden\"\n",
        "App_Name = \"EAFC\"\n",
        "username =\"EAFC-scraper\"\n",
        "password =\"Hidden\"\n",
        "\n",
        "subreddit_name ='Cancer'\n",
        "\n",
        "#Following are the pertinent subreddits \n",
        "#CancerFamilySupport\n",
        "#Cancer\n",
        "#CancerCaregivers"
      ],
      "execution_count": null,
      "outputs": []
    },
    {
      "cell_type": "markdown",
      "metadata": {
        "id": "TWGRwq903vuK"
      },
      "source": [
        "Praw is the Python Library for Reddit API"
      ]
    },
    {
      "cell_type": "code",
      "metadata": {
        "id": "v1dH1yVnuy0Y",
        "colab": {
          "base_uri": "https://localhost:8080/"
        },
        "outputId": "fb251d8a-2525-4b8b-fbce-5661f1ae0465"
      },
      "source": [
        "pip install praw"
      ],
      "execution_count": null,
      "outputs": [
        {
          "output_type": "stream",
          "text": [
            "Requirement already satisfied: praw in /usr/local/lib/python3.6/dist-packages (7.1.0)\n",
            "Requirement already satisfied: prawcore<2.0,>=1.3.0 in /usr/local/lib/python3.6/dist-packages (from praw) (1.5.0)\n",
            "Requirement already satisfied: update-checker>=0.17 in /usr/local/lib/python3.6/dist-packages (from praw) (0.18.0)\n",
            "Requirement already satisfied: websocket-client>=0.54.0 in /usr/local/lib/python3.6/dist-packages (from praw) (0.57.0)\n",
            "Requirement already satisfied: requests<3.0,>=2.6.0 in /usr/local/lib/python3.6/dist-packages (from prawcore<2.0,>=1.3.0->praw) (2.23.0)\n",
            "Requirement already satisfied: six in /usr/local/lib/python3.6/dist-packages (from websocket-client>=0.54.0->praw) (1.15.0)\n",
            "Requirement already satisfied: certifi>=2017.4.17 in /usr/local/lib/python3.6/dist-packages (from requests<3.0,>=2.6.0->prawcore<2.0,>=1.3.0->praw) (2020.6.20)\n",
            "Requirement already satisfied: chardet<4,>=3.0.2 in /usr/local/lib/python3.6/dist-packages (from requests<3.0,>=2.6.0->prawcore<2.0,>=1.3.0->praw) (3.0.4)\n",
            "Requirement already satisfied: idna<3,>=2.5 in /usr/local/lib/python3.6/dist-packages (from requests<3.0,>=2.6.0->prawcore<2.0,>=1.3.0->praw) (2.10)\n",
            "Requirement already satisfied: urllib3!=1.25.0,!=1.25.1,<1.26,>=1.21.1 in /usr/local/lib/python3.6/dist-packages (from requests<3.0,>=2.6.0->prawcore<2.0,>=1.3.0->praw) (1.24.3)\n"
          ],
          "name": "stdout"
        }
      ]
    },
    {
      "cell_type": "code",
      "metadata": {
        "id": "f3-2xY2vpdqP"
      },
      "source": [
        "import praw\n",
        "import pandas as pd\n",
        "import datetime as dt"
      ],
      "execution_count": null,
      "outputs": []
    },
    {
      "cell_type": "code",
      "metadata": {
        "id": "RVol6YSDSdMZ"
      },
      "source": [
        "reddit = praw.Reddit(client_id = Client_ID, \\\n",
        "                     client_secret = Client_Secret, \\\n",
        "                     user_agent = App_Name, \\\n",
        "                     username = username, \\\n",
        "                     password = password)"
      ],
      "execution_count": null,
      "outputs": []
    },
    {
      "cell_type": "code",
      "metadata": {
        "id": "IO5WdOzSvX7g"
      },
      "source": [
        "#Get the subreddit\n",
        "subreddit = reddit.subreddit(subreddit_name)\n",
        "\n",
        "#Get top most upvoted reddits\n",
        "top_subreddit = subreddit.top(limit=1500)\n"
      ],
      "execution_count": null,
      "outputs": []
    },
    {
      "cell_type": "code",
      "metadata": {
        "id": "bjIdiYXww_eS"
      },
      "source": [
        "#Create a Dictionary for holding scrapped data\n",
        "topics_dict = { \"title\":[], \\\n",
        "                \"score\":[], \\\n",
        "                \"id\":[], \"url\":[],\\\n",
        "                \"comms_num\": [], \\\n",
        "                \"created\": [], \\\n",
        "                \"body\":[]}"
      ],
      "execution_count": null,
      "outputs": []
    },
    {
      "cell_type": "code",
      "metadata": {
        "id": "yJsiI_e9wayY"
      },
      "source": [
        "#Actual Scraping happens here\n",
        "for submission in top_subreddit:\n",
        "    topics_dict[\"title\"].append(submission.title)\n",
        "    topics_dict[\"score\"].append(submission.score)\n",
        "    topics_dict[\"id\"].append(submission.id)\n",
        "    topics_dict[\"url\"].append(submission.url)\n",
        "    topics_dict[\"comms_num\"].append(submission.num_comments)\n",
        "    topics_dict[\"created\"].append(submission.created)\n",
        "    topics_dict[\"body\"].append(submission.selftext)"
      ],
      "execution_count": null,
      "outputs": []
    },
    {
      "cell_type": "code",
      "metadata": {
        "id": "i_lmR57wxO1i"
      },
      "source": [
        "#convert our dictionary into a pandas dataframe\n",
        "topics_data = pd.DataFrame(topics_dict)"
      ],
      "execution_count": null,
      "outputs": []
    },
    {
      "cell_type": "code",
      "metadata": {
        "id": "aJzfNFFyxrXm",
        "colab": {
          "base_uri": "https://localhost:8080/"
        },
        "outputId": "6458bcd4-27a1-4b48-ab25-9de69d590a5a"
      },
      "source": [
        "print(len(topics_data))"
      ],
      "execution_count": null,
      "outputs": [
        {
          "output_type": "stream",
          "text": [
            "1000\n"
          ],
          "name": "stdout"
        }
      ]
    },
    {
      "cell_type": "code",
      "metadata": {
        "id": "g6CyzsByzqVN"
      },
      "source": [
        "#Creating a new column \"timestamp\" by fixing the date from the column \"Created\"\n",
        "def get_date(created):\n",
        "    return dt.datetime.fromtimestamp(created)\n",
        "\n",
        "_timestamp = topics_data[\"created\"].apply(get_date)\n",
        "\n",
        "topics_data = topics_data.assign(timestamp = _timestamp)"
      ],
      "execution_count": null,
      "outputs": []
    },
    {
      "cell_type": "code",
      "metadata": {
        "id": "K1HgjXFdxQgd",
        "colab": {
          "base_uri": "https://localhost:8080/"
        },
        "outputId": "e68325ce-ddf1-4221-bc9b-24bfc5b11a77"
      },
      "source": [
        "topics_data"
      ],
      "execution_count": null,
      "outputs": [
        {
          "output_type": "execute_result",
          "data": {
            "text/html": [
              "<div>\n",
              "<style scoped>\n",
              "    .dataframe tbody tr th:only-of-type {\n",
              "        vertical-align: middle;\n",
              "    }\n",
              "\n",
              "    .dataframe tbody tr th {\n",
              "        vertical-align: top;\n",
              "    }\n",
              "\n",
              "    .dataframe thead th {\n",
              "        text-align: right;\n",
              "    }\n",
              "</style>\n",
              "<table border=\"1\" class=\"dataframe\">\n",
              "  <thead>\n",
              "    <tr style=\"text-align: right;\">\n",
              "      <th></th>\n",
              "      <th>title</th>\n",
              "      <th>score</th>\n",
              "      <th>id</th>\n",
              "      <th>url</th>\n",
              "      <th>comms_num</th>\n",
              "      <th>created</th>\n",
              "      <th>body</th>\n",
              "      <th>timestamp</th>\n",
              "    </tr>\n",
              "  </thead>\n",
              "  <tbody>\n",
              "    <tr>\n",
              "      <th>0</th>\n",
              "      <td>I’m not ready.</td>\n",
              "      <td>615</td>\n",
              "      <td>9isza1</td>\n",
              "      <td>https://www.reddit.com/r/cancer/comments/9isza...</td>\n",
              "      <td>82</td>\n",
              "      <td>1.537917e+09</td>\n",
              "      <td>In 2016 I was diagnosed with stage 4 of a seve...</td>\n",
              "      <td>2018-09-25 23:13:21</td>\n",
              "    </tr>\n",
              "    <tr>\n",
              "      <th>1</th>\n",
              "      <td>Today is the Day After - Resectioning Surgery ...</td>\n",
              "      <td>617</td>\n",
              "      <td>gsrovh</td>\n",
              "      <td>https://i.imgur.com/8bc83Eu.jpg</td>\n",
              "      <td>81</td>\n",
              "      <td>1.590783e+09</td>\n",
              "      <td></td>\n",
              "      <td>2020-05-29 20:01:51</td>\n",
              "    </tr>\n",
              "    <tr>\n",
              "      <th>2</th>\n",
              "      <td>Dr. gave me 11% survival rate. I give myself a...</td>\n",
              "      <td>502</td>\n",
              "      <td>cfdqdl</td>\n",
              "      <td>https://imgur.com/El4KQQb</td>\n",
              "      <td>57</td>\n",
              "      <td>1.563602e+09</td>\n",
              "      <td></td>\n",
              "      <td>2019-07-20 05:50:55</td>\n",
              "    </tr>\n",
              "    <tr>\n",
              "      <th>3</th>\n",
              "      <td>I‘ve fought with cancer for over 2 years. Afte...</td>\n",
              "      <td>474</td>\n",
              "      <td>fz6hsn</td>\n",
              "      <td>https://www.reddit.com/r/cancer/comments/fz6hs...</td>\n",
              "      <td>38</td>\n",
              "      <td>1.586645e+09</td>\n",
              "      <td></td>\n",
              "      <td>2020-04-11 22:36:00</td>\n",
              "    </tr>\n",
              "    <tr>\n",
              "      <th>4</th>\n",
              "      <td>My mom is starting round 4/6 of chemo and want...</td>\n",
              "      <td>470</td>\n",
              "      <td>an3in3</td>\n",
              "      <td>https://imgur.com/oCNlIJ3.jpg</td>\n",
              "      <td>143</td>\n",
              "      <td>1.549328e+09</td>\n",
              "      <td></td>\n",
              "      <td>2019-02-05 00:47:42</td>\n",
              "    </tr>\n",
              "    <tr>\n",
              "      <th>...</th>\n",
              "      <td>...</td>\n",
              "      <td>...</td>\n",
              "      <td>...</td>\n",
              "      <td>...</td>\n",
              "      <td>...</td>\n",
              "      <td>...</td>\n",
              "      <td>...</td>\n",
              "      <td>...</td>\n",
              "    </tr>\n",
              "    <tr>\n",
              "      <th>995</th>\n",
              "      <td>The smaller symptoms suck the worst.</td>\n",
              "      <td>67</td>\n",
              "      <td>ck8p4v</td>\n",
              "      <td>https://www.reddit.com/r/cancer/comments/ck8p4...</td>\n",
              "      <td>41</td>\n",
              "      <td>1.564609e+09</td>\n",
              "      <td>So I have Hodgkins lymphoma. Prognosis is good...</td>\n",
              "      <td>2019-07-31 21:44:58</td>\n",
              "    </tr>\n",
              "    <tr>\n",
              "      <th>996</th>\n",
              "      <td>This is just so beautifully written, and I thi...</td>\n",
              "      <td>68</td>\n",
              "      <td>bjje5b</td>\n",
              "      <td>https://www.newyorker.com/magazine/2019/04/15/...</td>\n",
              "      <td>7</td>\n",
              "      <td>1.556758e+09</td>\n",
              "      <td></td>\n",
              "      <td>2019-05-02 00:47:14</td>\n",
              "    </tr>\n",
              "    <tr>\n",
              "      <th>997</th>\n",
              "      <td>Feeling Grateful</td>\n",
              "      <td>68</td>\n",
              "      <td>ane2p9</td>\n",
              "      <td>https://www.reddit.com/r/cancer/comments/ane2p...</td>\n",
              "      <td>7</td>\n",
              "      <td>1.549402e+09</td>\n",
              "      <td>Yesterday was World Cancer Day, and I took a m...</td>\n",
              "      <td>2019-02-05 21:26:25</td>\n",
              "    </tr>\n",
              "    <tr>\n",
              "      <th>998</th>\n",
              "      <td>My mom just passed</td>\n",
              "      <td>70</td>\n",
              "      <td>9h5eed</td>\n",
              "      <td>https://www.reddit.com/r/cancer/comments/9h5ee...</td>\n",
              "      <td>32</td>\n",
              "      <td>1.537394e+09</td>\n",
              "      <td>2+ year battle with s4 lung cancer finally end...</td>\n",
              "      <td>2018-09-19 22:01:24</td>\n",
              "    </tr>\n",
              "    <tr>\n",
              "      <th>999</th>\n",
              "      <td>?????</td>\n",
              "      <td>68</td>\n",
              "      <td>9e3ptt</td>\n",
              "      <td>https://www.reddit.com/r/cancer/comments/9e3pt...</td>\n",
              "      <td>50</td>\n",
              "      <td>1.536436e+09</td>\n",
              "      <td>Just found out that my beautiful amazing wife ...</td>\n",
              "      <td>2018-09-08 19:40:20</td>\n",
              "    </tr>\n",
              "  </tbody>\n",
              "</table>\n",
              "<p>1000 rows × 8 columns</p>\n",
              "</div>"
            ],
            "text/plain": [
              "                                                 title  ...           timestamp\n",
              "0                                       I’m not ready.  ... 2018-09-25 23:13:21\n",
              "1    Today is the Day After - Resectioning Surgery ...  ... 2020-05-29 20:01:51\n",
              "2    Dr. gave me 11% survival rate. I give myself a...  ... 2019-07-20 05:50:55\n",
              "3    I‘ve fought with cancer for over 2 years. Afte...  ... 2020-04-11 22:36:00\n",
              "4    My mom is starting round 4/6 of chemo and want...  ... 2019-02-05 00:47:42\n",
              "..                                                 ...  ...                 ...\n",
              "995               The smaller symptoms suck the worst.  ... 2019-07-31 21:44:58\n",
              "996  This is just so beautifully written, and I thi...  ... 2019-05-02 00:47:14\n",
              "997                                   Feeling Grateful  ... 2019-02-05 21:26:25\n",
              "998                                 My mom just passed  ... 2018-09-19 22:01:24\n",
              "999                                              ?????  ... 2018-09-08 19:40:20\n",
              "\n",
              "[1000 rows x 8 columns]"
            ]
          },
          "metadata": {
            "tags": []
          },
          "execution_count": 36
        }
      ]
    },
    {
      "cell_type": "code",
      "metadata": {
        "id": "Zu0SCDbE0eZA"
      },
      "source": [
        "#Exporting to CSV\n",
        "Filename='Reddit'+ subreddit_name +'.csv'\n",
        "topics_data.to_csv(Filename, index=False) "
      ],
      "execution_count": null,
      "outputs": []
    }
  ]
}
