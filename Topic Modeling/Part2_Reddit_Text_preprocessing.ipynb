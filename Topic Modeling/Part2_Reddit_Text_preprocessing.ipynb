{
  "nbformat": 4,
  "nbformat_minor": 0,
  "metadata": {
    "colab": {
      "name": "Reddit_Text_preprocessing.ipynb",
      "provenance": [],
      "authorship_tag": "ABX9TyNbCkpucPdJwH8jOXzwndle",
      "include_colab_link": true
    },
    "kernelspec": {
      "name": "python3",
      "display_name": "Python 3"
    }
  },
  "cells": [
    {
      "cell_type": "markdown",
      "metadata": {
        "id": "view-in-github",
        "colab_type": "text"
      },
      "source": [
        "<a href=\"https://colab.research.google.com/github/eveapp/data_science/blob/Ketki/Topic%20Classification%20F20/Topic%20Modeling/Reddit_Text_preprocessing.ipynb\" target=\"_parent\"><img src=\"https://colab.research.google.com/assets/colab-badge.svg\" alt=\"Open In Colab\"/></a>"
      ]
    },
    {
      "cell_type": "markdown",
      "metadata": {
        "id": "wsUJFchkbp6T"
      },
      "source": [
        "In this notebook, we clean and preprocess our reddit data.\n",
        "\n",
        "For cleaning we do the following to the values of 'body' column:\n",
        "  - Remove punctuations\n",
        "  - Convert to lowercase\n",
        "  - Remove Word Contractions (e.g. I've to I have).\n",
        "  - Remove Stop Words (e.g. has, at, etc)\n",
        "\n",
        "For Text Preprocessing we do the following to the values of 'cleaned_body' column:\n",
        " - Tokenize the text\n",
        " - Tag Parts of speech using NLTK standard POS tagging\n",
        " - Convert std NLTK POS tagging to WordNet POS tagging format. \n",
        " - Lemmatize the Wordnet POS tagged data\n",
        "\n",
        " We save the cleaned and Preprocessed data into a csv for further EDA\n"
      ]
    },
    {
      "cell_type": "code",
      "metadata": {
        "id": "fiQpQZCH9I44",
        "colab": {
          "base_uri": "https://localhost:8080/"
        },
        "outputId": "d8fee7e0-ec7b-415c-9ca1-2b815a782325"
      },
      "source": [
        "pip install contractions"
      ],
      "execution_count": null,
      "outputs": [
        {
          "output_type": "stream",
          "text": [
            "Collecting contractions\n",
            "  Downloading https://files.pythonhosted.org/packages/00/92/a05b76a692ac08d470ae5c23873cf1c9a041532f1ee065e74b374f218306/contractions-0.0.25-py2.py3-none-any.whl\n",
            "Collecting textsearch\n",
            "  Downloading https://files.pythonhosted.org/packages/42/a8/03407021f9555043de5492a2bd7a35c56cc03c2510092b5ec018cae1bbf1/textsearch-0.0.17-py2.py3-none-any.whl\n",
            "Collecting Unidecode\n",
            "\u001b[?25l  Downloading https://files.pythonhosted.org/packages/d0/42/d9edfed04228bacea2d824904cae367ee9efd05e6cce7ceaaedd0b0ad964/Unidecode-1.1.1-py2.py3-none-any.whl (238kB)\n",
            "\u001b[K     |████████████████████████████████| 245kB 5.2MB/s \n",
            "\u001b[?25hCollecting pyahocorasick\n",
            "\u001b[?25l  Downloading https://files.pythonhosted.org/packages/f4/9f/f0d8e8850e12829eea2e778f1c90e3c53a9a799b7f412082a5d21cd19ae1/pyahocorasick-1.4.0.tar.gz (312kB)\n",
            "\u001b[K     |████████████████████████████████| 317kB 13.5MB/s \n",
            "\u001b[?25hBuilding wheels for collected packages: pyahocorasick\n",
            "  Building wheel for pyahocorasick (setup.py) ... \u001b[?25l\u001b[?25hdone\n",
            "  Created wheel for pyahocorasick: filename=pyahocorasick-1.4.0-cp36-cp36m-linux_x86_64.whl size=81696 sha256=0719335824af477a1a6fd46b1ddb4bce2ad132ce0c352f7b4ef71edac771c7f3\n",
            "  Stored in directory: /root/.cache/pip/wheels/0a/90/61/87a55f5b459792fbb2b7ba6b31721b06ff5cf6bde541b40994\n",
            "Successfully built pyahocorasick\n",
            "Installing collected packages: Unidecode, pyahocorasick, textsearch, contractions\n",
            "Successfully installed Unidecode-1.1.1 contractions-0.0.25 pyahocorasick-1.4.0 textsearch-0.0.17\n"
          ],
          "name": "stdout"
        }
      ]
    },
    {
      "cell_type": "code",
      "metadata": {
        "id": "iwF5ZDGHfT2r",
        "colab": {
          "base_uri": "https://localhost:8080/"
        },
        "outputId": "49195247-e023-43e8-a1b5-5535f1cdf4ff"
      },
      "source": [
        "import contractions\n",
        "import nltk\n",
        "import pandas as pd\n",
        "import numpy as np\n",
        "import seaborn as sns\n",
        "import matplotlib.pyplot as plt\n",
        "from nltk.tokenize import word_tokenize\n",
        "from nltk.corpus import stopwords, wordnet\n",
        "from nltk.stem import WordNetLemmatizer\n",
        "import string\n",
        "%matplotlib inline\n",
        "\n",
        "nltk.download('punkt')\n",
        "nltk.download('stopwords')\n",
        "nltk.download('averaged_perceptron_tagger')\n",
        "nltk.download('wordnet')"
      ],
      "execution_count": null,
      "outputs": [
        {
          "output_type": "stream",
          "text": [
            "[nltk_data] Downloading package punkt to /root/nltk_data...\n",
            "[nltk_data]   Unzipping tokenizers/punkt.zip.\n",
            "[nltk_data] Downloading package stopwords to /root/nltk_data...\n",
            "[nltk_data]   Unzipping corpora/stopwords.zip.\n",
            "[nltk_data] Downloading package averaged_perceptron_tagger to\n",
            "[nltk_data]     /root/nltk_data...\n",
            "[nltk_data]   Unzipping taggers/averaged_perceptron_tagger.zip.\n",
            "[nltk_data] Downloading package wordnet to /root/nltk_data...\n",
            "[nltk_data]   Unzipping corpora/wordnet.zip.\n"
          ],
          "name": "stdout"
        },
        {
          "output_type": "execute_result",
          "data": {
            "text/plain": [
              "True"
            ]
          },
          "metadata": {
            "tags": []
          },
          "execution_count": 3
        }
      ]
    },
    {
      "cell_type": "code",
      "metadata": {
        "colab": {
          "base_uri": "https://localhost:8080/",
          "height": 649
        },
        "id": "F125qpG8EQPW",
        "outputId": "98f8522e-4124-4eb2-8c3c-b1d2f8417e8c"
      },
      "source": [
        "df_old=pd.read_csv('EAFC_Labelled.csv')\n",
        "df_old.head()"
      ],
      "execution_count": null,
      "outputs": [
        {
          "output_type": "execute_result",
          "data": {
            "text/html": [
              "<div>\n",
              "<style scoped>\n",
              "    .dataframe tbody tr th:only-of-type {\n",
              "        vertical-align: middle;\n",
              "    }\n",
              "\n",
              "    .dataframe tbody tr th {\n",
              "        vertical-align: top;\n",
              "    }\n",
              "\n",
              "    .dataframe thead th {\n",
              "        text-align: right;\n",
              "    }\n",
              "</style>\n",
              "<table border=\"1\" class=\"dataframe\">\n",
              "  <thead>\n",
              "    <tr style=\"text-align: right;\">\n",
              "      <th></th>\n",
              "      <th>Unnamed: 0</th>\n",
              "      <th>score</th>\n",
              "      <th>id</th>\n",
              "      <th>url</th>\n",
              "      <th>comms_num</th>\n",
              "      <th>title</th>\n",
              "      <th>body</th>\n",
              "      <th>timestamp</th>\n",
              "      <th>clean_body</th>\n",
              "      <th>clean_body_str</th>\n",
              "      <th>tokenized</th>\n",
              "      <th>pos_tags</th>\n",
              "      <th>wordnet_pos</th>\n",
              "      <th>lemmatized</th>\n",
              "      <th>label</th>\n",
              "      <th>Physical Symptoms</th>\n",
              "      <th>Sentiment</th>\n",
              "    </tr>\n",
              "  </thead>\n",
              "  <tbody>\n",
              "    <tr>\n",
              "      <th>0</th>\n",
              "      <td>NaN</td>\n",
              "      <td>88</td>\n",
              "      <td>d3mxw2</td>\n",
              "      <td>https://www.reddit.com/r/cancer/comments/d3mxw...</td>\n",
              "      <td>32</td>\n",
              "      <td>Fuck that Bell!</td>\n",
              "      <td>Sorry for the title, but I wish the bell ringi...</td>\n",
              "      <td>2019-09-13 17:55:58</td>\n",
              "      <td>['sorry', 'title', 'wish', 'bell', 'ringing', ...</td>\n",
              "      <td>sorry title wish bell ringing party music cele...</td>\n",
              "      <td>['sorry', 'title', 'wish', 'bell', 'ringing', ...</td>\n",
              "      <td>[('sorry', 'JJ'), ('title', 'NN'), ('wish', 'J...</td>\n",
              "      <td>[('sorry', 'a'), ('title', 'n'), ('wish', 'a')...</td>\n",
              "      <td>['sorry', 'title', 'wish', 'bell', 'ring', 'pa...</td>\n",
              "      <td>6.0</td>\n",
              "      <td>NaN</td>\n",
              "      <td>NaN</td>\n",
              "    </tr>\n",
              "    <tr>\n",
              "      <th>1</th>\n",
              "      <td>NaN</td>\n",
              "      <td>7</td>\n",
              "      <td>hesliu</td>\n",
              "      <td>https://www.reddit.com/r/CancerFamilySupport/c...</td>\n",
              "      <td>4</td>\n",
              "      <td>Father suffering from end stage aggression. Wo...</td>\n",
              "      <td>My dad was diagnosed with stage 4 bone cancer ...</td>\n",
              "      <td>2020-06-24 10:35:34</td>\n",
              "      <td>['dad', 'diagnosed', 'stage', 'bone', 'cancer'...</td>\n",
              "      <td>dad diagnosed stage bone cancer january made d...</td>\n",
              "      <td>['dad', 'diagnosed', 'stage', 'bone', 'cancer'...</td>\n",
              "      <td>[('dad', 'NN'), ('diagnosed', 'VBD'), ('stage'...</td>\n",
              "      <td>[('dad', 'n'), ('diagnosed', 'v'), ('stage', '...</td>\n",
              "      <td>['dad', 'diagnose', 'stage', 'bone', 'cancer',...</td>\n",
              "      <td>7.0</td>\n",
              "      <td>NaN</td>\n",
              "      <td>NaN</td>\n",
              "    </tr>\n",
              "    <tr>\n",
              "      <th>2</th>\n",
              "      <td>NaN</td>\n",
              "      <td>76</td>\n",
              "      <td>50p82p</td>\n",
              "      <td>https://www.reddit.com/r/cancer/comments/50p82...</td>\n",
              "      <td>17</td>\n",
              "      <td>last chemo was today :)</td>\n",
              "      <td>just finished my last of 12 abvd infusions. I ...</td>\n",
              "      <td>2016-09-02 4:01:24</td>\n",
              "      <td>['finished', 'last', 'abvd', 'infusions', 'fee...</td>\n",
              "      <td>finished last abvd infusions feel terrible kno...</td>\n",
              "      <td>['finished', 'last', 'abvd', 'infusions', 'fee...</td>\n",
              "      <td>[('finished', 'VBN'), ('last', 'JJ'), ('abvd',...</td>\n",
              "      <td>[('finished', 'v'), ('last', 'a'), ('abvd', 'a...</td>\n",
              "      <td>['finish', 'last', 'abvd', 'infusion', 'feel',...</td>\n",
              "      <td>9.0</td>\n",
              "      <td>NaN</td>\n",
              "      <td>NaN</td>\n",
              "    </tr>\n",
              "    <tr>\n",
              "      <th>3</th>\n",
              "      <td>NaN</td>\n",
              "      <td>2</td>\n",
              "      <td>dg7uwq</td>\n",
              "      <td>https://www.reddit.com/r/CancerCaregivers/comm...</td>\n",
              "      <td>2</td>\n",
              "      <td>ER phobia?</td>\n",
              "      <td>Have any of your loved ones checked out of the...</td>\n",
              "      <td>2019-10-11 9:22:41</td>\n",
              "      <td>['loved', 'ones', 'checked', 'hospital', 'ama'...</td>\n",
              "      <td>loved ones checked hospital ama medical advice...</td>\n",
              "      <td>['loved', 'ones', 'checked', 'hospital', 'ama'...</td>\n",
              "      <td>[('loved', 'VBN'), ('ones', 'NNS'), ('checked'...</td>\n",
              "      <td>[('loved', 'v'), ('ones', 'n'), ('checked', 'v...</td>\n",
              "      <td>['love', 'one', 'check', 'hospital', 'ama', 'm...</td>\n",
              "      <td>7.0</td>\n",
              "      <td>NaN</td>\n",
              "      <td>NaN</td>\n",
              "    </tr>\n",
              "    <tr>\n",
              "      <th>4</th>\n",
              "      <td>NaN</td>\n",
              "      <td>4</td>\n",
              "      <td>bry6ro</td>\n",
              "      <td>https://www.reddit.com/r/CancerCaregivers/comm...</td>\n",
              "      <td>10</td>\n",
              "      <td>8 minutes into his appointment, another scene ...</td>\n",
              "      <td>At this point it’s just funny to me. I’m not t...</td>\n",
              "      <td>2019-05-23 11:16:30</td>\n",
              "      <td>['point', 'it is', 'funny', 'I am', 'one', 'th...</td>\n",
              "      <td>point it is funny I am one throwing temper tan...</td>\n",
              "      <td>['point', 'it', 'is', 'funny', 'I', 'am', 'one...</td>\n",
              "      <td>[('point', 'NN'), ('it', 'PRP'), ('is', 'VBZ')...</td>\n",
              "      <td>[('point', 'n'), ('it', 'n'), ('is', 'v'), ('f...</td>\n",
              "      <td>['point', 'it', 'be', 'funny', 'I', 'be', 'one...</td>\n",
              "      <td>1.0</td>\n",
              "      <td>NaN</td>\n",
              "      <td>NaN</td>\n",
              "    </tr>\n",
              "  </tbody>\n",
              "</table>\n",
              "</div>"
            ],
            "text/plain": [
              "   Unnamed: 0  score      id  ... label  Physical Symptoms Sentiment\n",
              "0         NaN     88  d3mxw2  ...   6.0                NaN       NaN\n",
              "1         NaN      7  hesliu  ...   7.0                NaN       NaN\n",
              "2         NaN     76  50p82p  ...   9.0                NaN       NaN\n",
              "3         NaN      2  dg7uwq  ...   7.0                NaN       NaN\n",
              "4         NaN      4  bry6ro  ...   1.0                NaN       NaN\n",
              "\n",
              "[5 rows x 17 columns]"
            ]
          },
          "metadata": {
            "tags": []
          },
          "execution_count": 5
        }
      ]
    },
    {
      "cell_type": "markdown",
      "metadata": {
        "id": "lheWcctrEvkW"
      },
      "source": [
        ""
      ]
    },
    {
      "cell_type": "code",
      "metadata": {
        "id": "WjUSn_ieEkzY"
      },
      "source": [
        "df = df_old[['title', 'body', 'label']].copy()"
      ],
      "execution_count": null,
      "outputs": []
    },
    {
      "cell_type": "code",
      "metadata": {
        "id": "mvfbknp4fiB5"
      },
      "source": [
        "df1 = pd.read_csv('RedditCancer.csv')\n",
        "df1.head()\n",
        "\n",
        "df2 = pd.read_csv('RedditCancerCaregivers.csv')\n",
        "df2.head()\n",
        "\n",
        "df3 = pd.read_csv('RedditCancerFamilySupport.csv')\n",
        "df3.head()\n",
        "\n",
        "df = pd.concat([df1,df2], axis=0)\n",
        "df = pd.concat([df,df3], axis=0)\n"
      ],
      "execution_count": null,
      "outputs": []
    },
    {
      "cell_type": "code",
      "metadata": {
        "id": "qoGU3NFex6j_"
      },
      "source": [
        "df.to_csv('EAFC_Raw.csv')"
      ],
      "execution_count": null,
      "outputs": []
    },
    {
      "cell_type": "code",
      "metadata": {
        "id": "oPAfZH_FgErj",
        "colab": {
          "base_uri": "https://localhost:8080/"
        },
        "outputId": "718d72fc-2a45-46c8-ca91-ed34ef8aeb94"
      },
      "source": [
        "#(#Rows, #Columns)\n",
        "df.shape"
      ],
      "execution_count": null,
      "outputs": [
        {
          "output_type": "execute_result",
          "data": {
            "text/plain": [
              "(480, 5)"
            ]
          },
          "metadata": {
            "tags": []
          },
          "execution_count": 44
        }
      ]
    },
    {
      "cell_type": "code",
      "metadata": {
        "id": "IYpqRSvt9iW_",
        "colab": {
          "base_uri": "https://localhost:8080/",
          "height": 289
        },
        "outputId": "c87e9c32-5e30-4a85-f5a5-8baa64901c60"
      },
      "source": [
        "df=df.dropna()\n",
        "df.head()"
      ],
      "execution_count": null,
      "outputs": [
        {
          "output_type": "execute_result",
          "data": {
            "text/html": [
              "<div>\n",
              "<style scoped>\n",
              "    .dataframe tbody tr th:only-of-type {\n",
              "        vertical-align: middle;\n",
              "    }\n",
              "\n",
              "    .dataframe tbody tr th {\n",
              "        vertical-align: top;\n",
              "    }\n",
              "\n",
              "    .dataframe thead th {\n",
              "        text-align: right;\n",
              "    }\n",
              "</style>\n",
              "<table border=\"1\" class=\"dataframe\">\n",
              "  <thead>\n",
              "    <tr style=\"text-align: right;\">\n",
              "      <th></th>\n",
              "      <th>title</th>\n",
              "      <th>body</th>\n",
              "      <th>label</th>\n",
              "      <th>clean_body</th>\n",
              "      <th>clean_body_str</th>\n",
              "    </tr>\n",
              "  </thead>\n",
              "  <tbody>\n",
              "    <tr>\n",
              "      <th>0</th>\n",
              "      <td>Fuck that Bell!</td>\n",
              "      <td>Sorry for the title, but I wish the bell ringi...</td>\n",
              "      <td>6.0</td>\n",
              "      <td>[fuck, bell, sorry, title, wish, bell, ringing...</td>\n",
              "      <td>fuck bell sorry title wish bell ringing party ...</td>\n",
              "    </tr>\n",
              "    <tr>\n",
              "      <th>1</th>\n",
              "      <td>Father suffering from end stage aggression. Wo...</td>\n",
              "      <td>My dad was diagnosed with stage 4 bone cancer ...</td>\n",
              "      <td>7.0</td>\n",
              "      <td>[father, suffering, end, stage, aggression, wi...</td>\n",
              "      <td>father suffering end stage aggression will not...</td>\n",
              "    </tr>\n",
              "    <tr>\n",
              "      <th>2</th>\n",
              "      <td>last chemo was today :)</td>\n",
              "      <td>just finished my last of 12 abvd infusions. I ...</td>\n",
              "      <td>9.0</td>\n",
              "      <td>[last, chemo, today, finished, last, abvd, inf...</td>\n",
              "      <td>last chemo today finished last abvd infusions ...</td>\n",
              "    </tr>\n",
              "    <tr>\n",
              "      <th>3</th>\n",
              "      <td>ER phobia?</td>\n",
              "      <td>Have any of your loved ones checked out of the...</td>\n",
              "      <td>7.0</td>\n",
              "      <td>[er, phobia, loved, ones, checked, hospital, a...</td>\n",
              "      <td>er phobia loved ones checked hospital ama medi...</td>\n",
              "    </tr>\n",
              "    <tr>\n",
              "      <th>4</th>\n",
              "      <td>8 minutes into his appointment, another scene ...</td>\n",
              "      <td>At this point it’s just funny to me. I’m not t...</td>\n",
              "      <td>1.0</td>\n",
              "      <td>[minutes, appointment, another, scene, made, p...</td>\n",
              "      <td>minutes appointment another scene made plus ho...</td>\n",
              "    </tr>\n",
              "  </tbody>\n",
              "</table>\n",
              "</div>"
            ],
            "text/plain": [
              "                                               title  ...                                     clean_body_str\n",
              "0                                    Fuck that Bell!  ...  fuck bell sorry title wish bell ringing party ...\n",
              "1  Father suffering from end stage aggression. Wo...  ...  father suffering end stage aggression will not...\n",
              "2                            last chemo was today :)  ...  last chemo today finished last abvd infusions ...\n",
              "3                                         ER phobia?  ...  er phobia loved ones checked hospital ama medi...\n",
              "4  8 minutes into his appointment, another scene ...  ...  minutes appointment another scene made plus ho...\n",
              "\n",
              "[5 rows x 5 columns]"
            ]
          },
          "metadata": {
            "tags": []
          },
          "execution_count": 46
        }
      ]
    },
    {
      "cell_type": "code",
      "metadata": {
        "id": "JAwl_aN9gO1b",
        "colab": {
          "base_uri": "https://localhost:8080/"
        },
        "outputId": "9f0c3674-b024-477c-bbf0-1e18fb36ed90"
      },
      "source": [
        "#Rows that have values we could use\n",
        "df.info() "
      ],
      "execution_count": null,
      "outputs": [
        {
          "output_type": "stream",
          "text": [
            "<class 'pandas.core.frame.DataFrame'>\n",
            "Int64Index: 480 entries, 0 to 845\n",
            "Data columns (total 3 columns):\n",
            " #   Column  Non-Null Count  Dtype  \n",
            "---  ------  --------------  -----  \n",
            " 0   title   480 non-null    object \n",
            " 1   body    480 non-null    object \n",
            " 2   label   480 non-null    float64\n",
            "dtypes: float64(1), object(2)\n",
            "memory usage: 15.0+ KB\n"
          ],
          "name": "stdout"
        }
      ]
    },
    {
      "cell_type": "code",
      "metadata": {
        "id": "GFkPYXK8v7x2"
      },
      "source": [
        "#Detect Language of each \n",
        "# pretrained_model = \"lid.176.bin\" \n",
        "# model = fasttext.load_model(pretrained_model)\n",
        "# langs = []\n",
        "# for sent in rws['rating_description_str']:\n",
        "#     lang = model.predict(sent)[0]\n",
        "#     langs.append(str(lang)[11:13])\n",
        "# rws['langs'] = langs"
      ],
      "execution_count": null,
      "outputs": []
    },
    {
      "cell_type": "code",
      "metadata": {
        "id": "0T9Us0LA3hu5"
      },
      "source": [
        "#Make everything lowercase\n",
        "df['clean_body'] =  df[\"title\"].str.lower()+\" \"+ df[\"body\"].str.lower() "
      ],
      "execution_count": null,
      "outputs": []
    },
    {
      "cell_type": "code",
      "metadata": {
        "id": "9tE6z1ts64ST"
      },
      "source": [
        "def remove_punctuations_numbers(text):\n",
        "    punc = string.punctuation + '0123456789'\n",
        "    for punctuation in punc:\n",
        "        text = text.replace(punctuation, '')\n",
        "    return text"
      ],
      "execution_count": null,
      "outputs": []
    },
    {
      "cell_type": "code",
      "metadata": {
        "id": "Tos96n_MmVtO",
        "colab": {
          "base_uri": "https://localhost:8080/"
        },
        "outputId": "686a4b7f-1a02-4779-a9a0-e63e39eb447e"
      },
      "source": [
        "print(string.punctuation)"
      ],
      "execution_count": null,
      "outputs": [
        {
          "output_type": "stream",
          "text": [
            "!\"#$%&'()*+,-./:;<=>?@[\\]^_`{|}~\n"
          ],
          "name": "stdout"
        }
      ]
    },
    {
      "cell_type": "code",
      "metadata": {
        "id": "NZQ7ejop3CiI",
        "colab": {
          "base_uri": "https://localhost:8080/",
          "height": 255
        },
        "outputId": "597f19d1-4c69-40c9-864b-eb58392266fc"
      },
      "source": [
        "#remove punctuation \n",
        "\n",
        "df[\"clean_body\"] = df[\"clean_body\"].astype(str)\n",
        "df['clean_body'] = df['clean_body'].apply(remove_punctuations_numbers)\n",
        "df.head()"
      ],
      "execution_count": null,
      "outputs": [
        {
          "output_type": "execute_result",
          "data": {
            "text/html": [
              "<div>\n",
              "<style scoped>\n",
              "    .dataframe tbody tr th:only-of-type {\n",
              "        vertical-align: middle;\n",
              "    }\n",
              "\n",
              "    .dataframe tbody tr th {\n",
              "        vertical-align: top;\n",
              "    }\n",
              "\n",
              "    .dataframe thead th {\n",
              "        text-align: right;\n",
              "    }\n",
              "</style>\n",
              "<table border=\"1\" class=\"dataframe\">\n",
              "  <thead>\n",
              "    <tr style=\"text-align: right;\">\n",
              "      <th></th>\n",
              "      <th>title</th>\n",
              "      <th>body</th>\n",
              "      <th>label</th>\n",
              "      <th>clean_body</th>\n",
              "    </tr>\n",
              "  </thead>\n",
              "  <tbody>\n",
              "    <tr>\n",
              "      <th>0</th>\n",
              "      <td>Fuck that Bell!</td>\n",
              "      <td>Sorry for the title, but I wish the bell ringi...</td>\n",
              "      <td>6.0</td>\n",
              "      <td>fuck that bell sorry for the title but i wish ...</td>\n",
              "    </tr>\n",
              "    <tr>\n",
              "      <th>1</th>\n",
              "      <td>Father suffering from end stage aggression. Wo...</td>\n",
              "      <td>My dad was diagnosed with stage 4 bone cancer ...</td>\n",
              "      <td>7.0</td>\n",
              "      <td>father suffering from end stage aggression won...</td>\n",
              "    </tr>\n",
              "    <tr>\n",
              "      <th>2</th>\n",
              "      <td>last chemo was today :)</td>\n",
              "      <td>just finished my last of 12 abvd infusions. I ...</td>\n",
              "      <td>9.0</td>\n",
              "      <td>last chemo was today  just finished my last of...</td>\n",
              "    </tr>\n",
              "    <tr>\n",
              "      <th>3</th>\n",
              "      <td>ER phobia?</td>\n",
              "      <td>Have any of your loved ones checked out of the...</td>\n",
              "      <td>7.0</td>\n",
              "      <td>er phobia have any of your loved ones checked ...</td>\n",
              "    </tr>\n",
              "    <tr>\n",
              "      <th>4</th>\n",
              "      <td>8 minutes into his appointment, another scene ...</td>\n",
              "      <td>At this point it’s just funny to me. I’m not t...</td>\n",
              "      <td>1.0</td>\n",
              "      <td>minutes into his appointment another scene ma...</td>\n",
              "    </tr>\n",
              "  </tbody>\n",
              "</table>\n",
              "</div>"
            ],
            "text/plain": [
              "                                               title  ...                                         clean_body\n",
              "0                                    Fuck that Bell!  ...  fuck that bell sorry for the title but i wish ...\n",
              "1  Father suffering from end stage aggression. Wo...  ...  father suffering from end stage aggression won...\n",
              "2                            last chemo was today :)  ...  last chemo was today  just finished my last of...\n",
              "3                                         ER phobia?  ...  er phobia have any of your loved ones checked ...\n",
              "4  8 minutes into his appointment, another scene ...  ...   minutes into his appointment another scene ma...\n",
              "\n",
              "[5 rows x 4 columns]"
            ]
          },
          "metadata": {
            "tags": []
          },
          "execution_count": 40
        }
      ]
    },
    {
      "cell_type": "code",
      "metadata": {
        "id": "16sy5eG18aXG",
        "colab": {
          "base_uri": "https://localhost:8080/",
          "height": 238
        },
        "outputId": "d7d05ccf-eb10-46e7-b50f-2de575a5b228"
      },
      "source": [
        "#Remove Word contractions\n",
        "df['clean_body'] = df['clean_body'].apply(lambda x: [contractions.fix(word) for word in x.split()])\n",
        "df.head()"
      ],
      "execution_count": null,
      "outputs": [
        {
          "output_type": "execute_result",
          "data": {
            "text/html": [
              "<div>\n",
              "<style scoped>\n",
              "    .dataframe tbody tr th:only-of-type {\n",
              "        vertical-align: middle;\n",
              "    }\n",
              "\n",
              "    .dataframe tbody tr th {\n",
              "        vertical-align: top;\n",
              "    }\n",
              "\n",
              "    .dataframe thead th {\n",
              "        text-align: right;\n",
              "    }\n",
              "</style>\n",
              "<table border=\"1\" class=\"dataframe\">\n",
              "  <thead>\n",
              "    <tr style=\"text-align: right;\">\n",
              "      <th></th>\n",
              "      <th>title</th>\n",
              "      <th>body</th>\n",
              "      <th>label</th>\n",
              "      <th>clean_body</th>\n",
              "    </tr>\n",
              "  </thead>\n",
              "  <tbody>\n",
              "    <tr>\n",
              "      <th>0</th>\n",
              "      <td>Fuck that Bell!</td>\n",
              "      <td>Sorry for the title, but I wish the bell ringi...</td>\n",
              "      <td>6.0</td>\n",
              "      <td>[fuck, that, bell, sorry, for, the, title, but...</td>\n",
              "    </tr>\n",
              "    <tr>\n",
              "      <th>1</th>\n",
              "      <td>Father suffering from end stage aggression. Wo...</td>\n",
              "      <td>My dad was diagnosed with stage 4 bone cancer ...</td>\n",
              "      <td>7.0</td>\n",
              "      <td>[father, suffering, from, end, stage, aggressi...</td>\n",
              "    </tr>\n",
              "    <tr>\n",
              "      <th>2</th>\n",
              "      <td>last chemo was today :)</td>\n",
              "      <td>just finished my last of 12 abvd infusions. I ...</td>\n",
              "      <td>9.0</td>\n",
              "      <td>[last, chemo, was, today, just, finished, my, ...</td>\n",
              "    </tr>\n",
              "    <tr>\n",
              "      <th>3</th>\n",
              "      <td>ER phobia?</td>\n",
              "      <td>Have any of your loved ones checked out of the...</td>\n",
              "      <td>7.0</td>\n",
              "      <td>[er, phobia, have, any, of, your, loved, ones,...</td>\n",
              "    </tr>\n",
              "    <tr>\n",
              "      <th>4</th>\n",
              "      <td>8 minutes into his appointment, another scene ...</td>\n",
              "      <td>At this point it’s just funny to me. I’m not t...</td>\n",
              "      <td>1.0</td>\n",
              "      <td>[minutes, into, his, appointment, another, sce...</td>\n",
              "    </tr>\n",
              "  </tbody>\n",
              "</table>\n",
              "</div>"
            ],
            "text/plain": [
              "                                               title  ...                                         clean_body\n",
              "0                                    Fuck that Bell!  ...  [fuck, that, bell, sorry, for, the, title, but...\n",
              "1  Father suffering from end stage aggression. Wo...  ...  [father, suffering, from, end, stage, aggressi...\n",
              "2                            last chemo was today :)  ...  [last, chemo, was, today, just, finished, my, ...\n",
              "3                                         ER phobia?  ...  [er, phobia, have, any, of, your, loved, ones,...\n",
              "4  8 minutes into his appointment, another scene ...  ...  [minutes, into, his, appointment, another, sce...\n",
              "\n",
              "[5 rows x 4 columns]"
            ]
          },
          "metadata": {
            "tags": []
          },
          "execution_count": 41
        }
      ]
    },
    {
      "cell_type": "code",
      "metadata": {
        "id": "t-KYMUEH_jw_",
        "colab": {
          "base_uri": "https://localhost:8080/",
          "height": 289
        },
        "outputId": "b0867d5e-fe27-4f30-aa4d-89f56cc88d74"
      },
      "source": [
        "#Remove Stop Words\n",
        "stop_words = set(stopwords.words('english'))\n",
        "print(len(stop_words))\n",
        "stop_words.add('i')\n",
        "stop_words.add('even')\n",
        "stop_words.add('still')\n",
        "stop_words.add('ever')\n",
        "stop_words.add('really')\n",
        "stop_words.add('seem')\n",
        "stop_words.add('almost')\n",
        "stop_words.add('go')\n",
        "print(len(stop_words))\n",
        "df['clean_body'] = df['clean_body'].apply(lambda x: [word for word in x if word not in stop_words])\n",
        "df.head()"
      ],
      "execution_count": null,
      "outputs": [
        {
          "output_type": "stream",
          "text": [
            "179\n",
            "186\n"
          ],
          "name": "stdout"
        },
        {
          "output_type": "execute_result",
          "data": {
            "text/html": [
              "<div>\n",
              "<style scoped>\n",
              "    .dataframe tbody tr th:only-of-type {\n",
              "        vertical-align: middle;\n",
              "    }\n",
              "\n",
              "    .dataframe tbody tr th {\n",
              "        vertical-align: top;\n",
              "    }\n",
              "\n",
              "    .dataframe thead th {\n",
              "        text-align: right;\n",
              "    }\n",
              "</style>\n",
              "<table border=\"1\" class=\"dataframe\">\n",
              "  <thead>\n",
              "    <tr style=\"text-align: right;\">\n",
              "      <th></th>\n",
              "      <th>title</th>\n",
              "      <th>body</th>\n",
              "      <th>label</th>\n",
              "      <th>clean_body</th>\n",
              "    </tr>\n",
              "  </thead>\n",
              "  <tbody>\n",
              "    <tr>\n",
              "      <th>0</th>\n",
              "      <td>Fuck that Bell!</td>\n",
              "      <td>Sorry for the title, but I wish the bell ringi...</td>\n",
              "      <td>6.0</td>\n",
              "      <td>[fuck, bell, sorry, title, wish, bell, ringing...</td>\n",
              "    </tr>\n",
              "    <tr>\n",
              "      <th>1</th>\n",
              "      <td>Father suffering from end stage aggression. Wo...</td>\n",
              "      <td>My dad was diagnosed with stage 4 bone cancer ...</td>\n",
              "      <td>7.0</td>\n",
              "      <td>[father, suffering, end, stage, aggression, wi...</td>\n",
              "    </tr>\n",
              "    <tr>\n",
              "      <th>2</th>\n",
              "      <td>last chemo was today :)</td>\n",
              "      <td>just finished my last of 12 abvd infusions. I ...</td>\n",
              "      <td>9.0</td>\n",
              "      <td>[last, chemo, today, finished, last, abvd, inf...</td>\n",
              "    </tr>\n",
              "    <tr>\n",
              "      <th>3</th>\n",
              "      <td>ER phobia?</td>\n",
              "      <td>Have any of your loved ones checked out of the...</td>\n",
              "      <td>7.0</td>\n",
              "      <td>[er, phobia, loved, ones, checked, hospital, a...</td>\n",
              "    </tr>\n",
              "    <tr>\n",
              "      <th>4</th>\n",
              "      <td>8 minutes into his appointment, another scene ...</td>\n",
              "      <td>At this point it’s just funny to me. I’m not t...</td>\n",
              "      <td>1.0</td>\n",
              "      <td>[minutes, appointment, another, scene, made, p...</td>\n",
              "    </tr>\n",
              "  </tbody>\n",
              "</table>\n",
              "</div>"
            ],
            "text/plain": [
              "                                               title  ...                                         clean_body\n",
              "0                                    Fuck that Bell!  ...  [fuck, bell, sorry, title, wish, bell, ringing...\n",
              "1  Father suffering from end stage aggression. Wo...  ...  [father, suffering, end, stage, aggression, wi...\n",
              "2                            last chemo was today :)  ...  [last, chemo, today, finished, last, abvd, inf...\n",
              "3                                         ER phobia?  ...  [er, phobia, loved, ones, checked, hospital, a...\n",
              "4  8 minutes into his appointment, another scene ...  ...  [minutes, appointment, another, scene, made, p...\n",
              "\n",
              "[5 rows x 4 columns]"
            ]
          },
          "metadata": {
            "tags": []
          },
          "execution_count": 42
        }
      ]
    },
    {
      "cell_type": "code",
      "metadata": {
        "id": "lqLCSAV0-w1Z",
        "colab": {
          "base_uri": "https://localhost:8080/",
          "height": 289
        },
        "outputId": "ef2e5cbf-4f32-4f84-d030-e30a50bd9c06"
      },
      "source": [
        "#Clean body Str:\n",
        "df['clean_body_str'] = [' '.join(map(str, l)) for l in df['clean_body']]\n",
        "df.head()"
      ],
      "execution_count": null,
      "outputs": [
        {
          "output_type": "execute_result",
          "data": {
            "text/html": [
              "<div>\n",
              "<style scoped>\n",
              "    .dataframe tbody tr th:only-of-type {\n",
              "        vertical-align: middle;\n",
              "    }\n",
              "\n",
              "    .dataframe tbody tr th {\n",
              "        vertical-align: top;\n",
              "    }\n",
              "\n",
              "    .dataframe thead th {\n",
              "        text-align: right;\n",
              "    }\n",
              "</style>\n",
              "<table border=\"1\" class=\"dataframe\">\n",
              "  <thead>\n",
              "    <tr style=\"text-align: right;\">\n",
              "      <th></th>\n",
              "      <th>title</th>\n",
              "      <th>body</th>\n",
              "      <th>label</th>\n",
              "      <th>clean_body</th>\n",
              "      <th>clean_body_str</th>\n",
              "    </tr>\n",
              "  </thead>\n",
              "  <tbody>\n",
              "    <tr>\n",
              "      <th>0</th>\n",
              "      <td>Fuck that Bell!</td>\n",
              "      <td>Sorry for the title, but I wish the bell ringi...</td>\n",
              "      <td>6.0</td>\n",
              "      <td>[fuck, bell, sorry, title, wish, bell, ringing...</td>\n",
              "      <td>fuck bell sorry title wish bell ringing party ...</td>\n",
              "    </tr>\n",
              "    <tr>\n",
              "      <th>1</th>\n",
              "      <td>Father suffering from end stage aggression. Wo...</td>\n",
              "      <td>My dad was diagnosed with stage 4 bone cancer ...</td>\n",
              "      <td>7.0</td>\n",
              "      <td>[father, suffering, end, stage, aggression, wi...</td>\n",
              "      <td>father suffering end stage aggression will not...</td>\n",
              "    </tr>\n",
              "    <tr>\n",
              "      <th>2</th>\n",
              "      <td>last chemo was today :)</td>\n",
              "      <td>just finished my last of 12 abvd infusions. I ...</td>\n",
              "      <td>9.0</td>\n",
              "      <td>[last, chemo, today, finished, last, abvd, inf...</td>\n",
              "      <td>last chemo today finished last abvd infusions ...</td>\n",
              "    </tr>\n",
              "    <tr>\n",
              "      <th>3</th>\n",
              "      <td>ER phobia?</td>\n",
              "      <td>Have any of your loved ones checked out of the...</td>\n",
              "      <td>7.0</td>\n",
              "      <td>[er, phobia, loved, ones, checked, hospital, a...</td>\n",
              "      <td>er phobia loved ones checked hospital ama medi...</td>\n",
              "    </tr>\n",
              "    <tr>\n",
              "      <th>4</th>\n",
              "      <td>8 minutes into his appointment, another scene ...</td>\n",
              "      <td>At this point it’s just funny to me. I’m not t...</td>\n",
              "      <td>1.0</td>\n",
              "      <td>[minutes, appointment, another, scene, made, p...</td>\n",
              "      <td>minutes appointment another scene made plus ho...</td>\n",
              "    </tr>\n",
              "  </tbody>\n",
              "</table>\n",
              "</div>"
            ],
            "text/plain": [
              "                                               title  ...                                     clean_body_str\n",
              "0                                    Fuck that Bell!  ...  fuck bell sorry title wish bell ringing party ...\n",
              "1  Father suffering from end stage aggression. Wo...  ...  father suffering end stage aggression will not...\n",
              "2                            last chemo was today :)  ...  last chemo today finished last abvd infusions ...\n",
              "3                                         ER phobia?  ...  er phobia loved ones checked hospital ama medi...\n",
              "4  8 minutes into his appointment, another scene ...  ...  minutes appointment another scene made plus ho...\n",
              "\n",
              "[5 rows x 5 columns]"
            ]
          },
          "metadata": {
            "tags": []
          },
          "execution_count": 43
        }
      ]
    },
    {
      "cell_type": "code",
      "metadata": {
        "id": "2yTGbPS2_MyM",
        "colab": {
          "base_uri": "https://localhost:8080/",
          "height": 323
        },
        "outputId": "cbb6cebc-686e-429f-cbe2-28a37a782367"
      },
      "source": [
        "#Tokenize\n",
        "df['tokenized'] = df['clean_body_str'].apply(word_tokenize)\n",
        "df.head()"
      ],
      "execution_count": null,
      "outputs": [
        {
          "output_type": "execute_result",
          "data": {
            "text/html": [
              "<div>\n",
              "<style scoped>\n",
              "    .dataframe tbody tr th:only-of-type {\n",
              "        vertical-align: middle;\n",
              "    }\n",
              "\n",
              "    .dataframe tbody tr th {\n",
              "        vertical-align: top;\n",
              "    }\n",
              "\n",
              "    .dataframe thead th {\n",
              "        text-align: right;\n",
              "    }\n",
              "</style>\n",
              "<table border=\"1\" class=\"dataframe\">\n",
              "  <thead>\n",
              "    <tr style=\"text-align: right;\">\n",
              "      <th></th>\n",
              "      <th>title</th>\n",
              "      <th>body</th>\n",
              "      <th>label</th>\n",
              "      <th>clean_body</th>\n",
              "      <th>clean_body_str</th>\n",
              "      <th>tokenized</th>\n",
              "    </tr>\n",
              "  </thead>\n",
              "  <tbody>\n",
              "    <tr>\n",
              "      <th>0</th>\n",
              "      <td>Fuck that Bell!</td>\n",
              "      <td>Sorry for the title, but I wish the bell ringi...</td>\n",
              "      <td>6.0</td>\n",
              "      <td>[fuck, bell, sorry, title, wish, bell, ringing...</td>\n",
              "      <td>fuck bell sorry title wish bell ringing party ...</td>\n",
              "      <td>[fuck, bell, sorry, title, wish, bell, ringing...</td>\n",
              "    </tr>\n",
              "    <tr>\n",
              "      <th>1</th>\n",
              "      <td>Father suffering from end stage aggression. Wo...</td>\n",
              "      <td>My dad was diagnosed with stage 4 bone cancer ...</td>\n",
              "      <td>7.0</td>\n",
              "      <td>[father, suffering, end, stage, aggression, wi...</td>\n",
              "      <td>father suffering end stage aggression will not...</td>\n",
              "      <td>[father, suffering, end, stage, aggression, wi...</td>\n",
              "    </tr>\n",
              "    <tr>\n",
              "      <th>2</th>\n",
              "      <td>last chemo was today :)</td>\n",
              "      <td>just finished my last of 12 abvd infusions. I ...</td>\n",
              "      <td>9.0</td>\n",
              "      <td>[last, chemo, today, finished, last, abvd, inf...</td>\n",
              "      <td>last chemo today finished last abvd infusions ...</td>\n",
              "      <td>[last, chemo, today, finished, last, abvd, inf...</td>\n",
              "    </tr>\n",
              "    <tr>\n",
              "      <th>3</th>\n",
              "      <td>ER phobia?</td>\n",
              "      <td>Have any of your loved ones checked out of the...</td>\n",
              "      <td>7.0</td>\n",
              "      <td>[er, phobia, loved, ones, checked, hospital, a...</td>\n",
              "      <td>er phobia loved ones checked hospital ama medi...</td>\n",
              "      <td>[er, phobia, loved, ones, checked, hospital, a...</td>\n",
              "    </tr>\n",
              "    <tr>\n",
              "      <th>4</th>\n",
              "      <td>8 minutes into his appointment, another scene ...</td>\n",
              "      <td>At this point it’s just funny to me. I’m not t...</td>\n",
              "      <td>1.0</td>\n",
              "      <td>[minutes, appointment, another, scene, made, p...</td>\n",
              "      <td>minutes appointment another scene made plus ho...</td>\n",
              "      <td>[minutes, appointment, another, scene, made, p...</td>\n",
              "    </tr>\n",
              "  </tbody>\n",
              "</table>\n",
              "</div>"
            ],
            "text/plain": [
              "                                               title  ...                                          tokenized\n",
              "0                                    Fuck that Bell!  ...  [fuck, bell, sorry, title, wish, bell, ringing...\n",
              "1  Father suffering from end stage aggression. Wo...  ...  [father, suffering, end, stage, aggression, wi...\n",
              "2                            last chemo was today :)  ...  [last, chemo, today, finished, last, abvd, inf...\n",
              "3                                         ER phobia?  ...  [er, phobia, loved, ones, checked, hospital, a...\n",
              "4  8 minutes into his appointment, another scene ...  ...  [minutes, appointment, another, scene, made, p...\n",
              "\n",
              "[5 rows x 6 columns]"
            ]
          },
          "metadata": {
            "tags": []
          },
          "execution_count": 20
        }
      ]
    },
    {
      "cell_type": "code",
      "metadata": {
        "id": "d6o7g-pjX_zU",
        "colab": {
          "base_uri": "https://localhost:8080/",
          "height": 357
        },
        "outputId": "d43f5052-9504-4624-f1f7-22ec6a9f029e"
      },
      "source": [
        "#Tagging Parts of Speech in the tokenized \n",
        "df['pos_tags'] = df['tokenized'].apply(nltk.tag.pos_tag)\n",
        "df.head()"
      ],
      "execution_count": null,
      "outputs": [
        {
          "output_type": "execute_result",
          "data": {
            "text/html": [
              "<div>\n",
              "<style scoped>\n",
              "    .dataframe tbody tr th:only-of-type {\n",
              "        vertical-align: middle;\n",
              "    }\n",
              "\n",
              "    .dataframe tbody tr th {\n",
              "        vertical-align: top;\n",
              "    }\n",
              "\n",
              "    .dataframe thead th {\n",
              "        text-align: right;\n",
              "    }\n",
              "</style>\n",
              "<table border=\"1\" class=\"dataframe\">\n",
              "  <thead>\n",
              "    <tr style=\"text-align: right;\">\n",
              "      <th></th>\n",
              "      <th>title</th>\n",
              "      <th>body</th>\n",
              "      <th>label</th>\n",
              "      <th>clean_body</th>\n",
              "      <th>clean_body_str</th>\n",
              "      <th>tokenized</th>\n",
              "      <th>pos_tags</th>\n",
              "    </tr>\n",
              "  </thead>\n",
              "  <tbody>\n",
              "    <tr>\n",
              "      <th>0</th>\n",
              "      <td>Fuck that Bell!</td>\n",
              "      <td>Sorry for the title, but I wish the bell ringi...</td>\n",
              "      <td>6.0</td>\n",
              "      <td>[fuck, bell, sorry, title, wish, bell, ringing...</td>\n",
              "      <td>fuck bell sorry title wish bell ringing party ...</td>\n",
              "      <td>[fuck, bell, sorry, title, wish, bell, ringing...</td>\n",
              "      <td>[(fuck, NN), (bell, NN), (sorry, JJ), (title, ...</td>\n",
              "    </tr>\n",
              "    <tr>\n",
              "      <th>1</th>\n",
              "      <td>Father suffering from end stage aggression. Wo...</td>\n",
              "      <td>My dad was diagnosed with stage 4 bone cancer ...</td>\n",
              "      <td>7.0</td>\n",
              "      <td>[father, suffering, end, stage, aggression, wi...</td>\n",
              "      <td>father suffering end stage aggression will not...</td>\n",
              "      <td>[father, suffering, end, stage, aggression, wi...</td>\n",
              "      <td>[(father, RB), (suffering, VBG), (end, NN), (s...</td>\n",
              "    </tr>\n",
              "    <tr>\n",
              "      <th>2</th>\n",
              "      <td>last chemo was today :)</td>\n",
              "      <td>just finished my last of 12 abvd infusions. I ...</td>\n",
              "      <td>9.0</td>\n",
              "      <td>[last, chemo, today, finished, last, abvd, inf...</td>\n",
              "      <td>last chemo today finished last abvd infusions ...</td>\n",
              "      <td>[last, chemo, today, finished, last, abvd, inf...</td>\n",
              "      <td>[(last, JJ), (chemo, NN), (today, NN), (finish...</td>\n",
              "    </tr>\n",
              "    <tr>\n",
              "      <th>3</th>\n",
              "      <td>ER phobia?</td>\n",
              "      <td>Have any of your loved ones checked out of the...</td>\n",
              "      <td>7.0</td>\n",
              "      <td>[er, phobia, loved, ones, checked, hospital, a...</td>\n",
              "      <td>er phobia loved ones checked hospital ama medi...</td>\n",
              "      <td>[er, phobia, loved, ones, checked, hospital, a...</td>\n",
              "      <td>[(er, NN), (phobia, NN), (loved, VBD), (ones, ...</td>\n",
              "    </tr>\n",
              "    <tr>\n",
              "      <th>4</th>\n",
              "      <td>8 minutes into his appointment, another scene ...</td>\n",
              "      <td>At this point it’s just funny to me. I’m not t...</td>\n",
              "      <td>1.0</td>\n",
              "      <td>[minutes, appointment, another, scene, made, p...</td>\n",
              "      <td>minutes appointment another scene made plus ho...</td>\n",
              "      <td>[minutes, appointment, another, scene, made, p...</td>\n",
              "      <td>[(minutes, NNS), (appointment, VBP), (another,...</td>\n",
              "    </tr>\n",
              "  </tbody>\n",
              "</table>\n",
              "</div>"
            ],
            "text/plain": [
              "                                               title  ...                                           pos_tags\n",
              "0                                    Fuck that Bell!  ...  [(fuck, NN), (bell, NN), (sorry, JJ), (title, ...\n",
              "1  Father suffering from end stage aggression. Wo...  ...  [(father, RB), (suffering, VBG), (end, NN), (s...\n",
              "2                            last chemo was today :)  ...  [(last, JJ), (chemo, NN), (today, NN), (finish...\n",
              "3                                         ER phobia?  ...  [(er, NN), (phobia, NN), (loved, VBD), (ones, ...\n",
              "4  8 minutes into his appointment, another scene ...  ...  [(minutes, NNS), (appointment, VBP), (another,...\n",
              "\n",
              "[5 rows x 7 columns]"
            ]
          },
          "metadata": {
            "tags": []
          },
          "execution_count": 21
        }
      ]
    },
    {
      "cell_type": "code",
      "metadata": {
        "id": "G1s7exrEZxFg"
      },
      "source": [
        "def get_wordnet_pos(tag):\n",
        "    if tag.startswith('J'):\n",
        "        return wordnet.ADJ\n",
        "    elif tag.startswith('V'):\n",
        "        return wordnet.VERB\n",
        "    elif tag.startswith('N'):\n",
        "        return wordnet.NOUN\n",
        "    elif tag.startswith('R'):\n",
        "        return wordnet.ADV\n",
        "    else:\n",
        "        return wordnet.NOUN"
      ],
      "execution_count": null,
      "outputs": []
    },
    {
      "cell_type": "code",
      "metadata": {
        "id": "3-6BgX72Z_ld",
        "colab": {
          "base_uri": "https://localhost:8080/",
          "height": 425
        },
        "outputId": "88699fda-45c9-452f-8209-86d5c07bd4c9"
      },
      "source": [
        "df['wordnet_pos'] = df['pos_tags'].apply(lambda x: [(word, get_wordnet_pos(pos_tag)) for (word, pos_tag) in x])\n",
        "df.head()\n"
      ],
      "execution_count": null,
      "outputs": [
        {
          "output_type": "execute_result",
          "data": {
            "text/html": [
              "<div>\n",
              "<style scoped>\n",
              "    .dataframe tbody tr th:only-of-type {\n",
              "        vertical-align: middle;\n",
              "    }\n",
              "\n",
              "    .dataframe tbody tr th {\n",
              "        vertical-align: top;\n",
              "    }\n",
              "\n",
              "    .dataframe thead th {\n",
              "        text-align: right;\n",
              "    }\n",
              "</style>\n",
              "<table border=\"1\" class=\"dataframe\">\n",
              "  <thead>\n",
              "    <tr style=\"text-align: right;\">\n",
              "      <th></th>\n",
              "      <th>title</th>\n",
              "      <th>body</th>\n",
              "      <th>label</th>\n",
              "      <th>clean_body</th>\n",
              "      <th>clean_body_str</th>\n",
              "      <th>tokenized</th>\n",
              "      <th>pos_tags</th>\n",
              "      <th>wordnet_pos</th>\n",
              "    </tr>\n",
              "  </thead>\n",
              "  <tbody>\n",
              "    <tr>\n",
              "      <th>0</th>\n",
              "      <td>Fuck that Bell!</td>\n",
              "      <td>Sorry for the title, but I wish the bell ringi...</td>\n",
              "      <td>6.0</td>\n",
              "      <td>[fuck, bell, sorry, title, wish, bell, ringing...</td>\n",
              "      <td>fuck bell sorry title wish bell ringing party ...</td>\n",
              "      <td>[fuck, bell, sorry, title, wish, bell, ringing...</td>\n",
              "      <td>[(fuck, NN), (bell, NN), (sorry, JJ), (title, ...</td>\n",
              "      <td>[(fuck, n), (bell, n), (sorry, a), (title, n),...</td>\n",
              "    </tr>\n",
              "    <tr>\n",
              "      <th>1</th>\n",
              "      <td>Father suffering from end stage aggression. Wo...</td>\n",
              "      <td>My dad was diagnosed with stage 4 bone cancer ...</td>\n",
              "      <td>7.0</td>\n",
              "      <td>[father, suffering, end, stage, aggression, wi...</td>\n",
              "      <td>father suffering end stage aggression will not...</td>\n",
              "      <td>[father, suffering, end, stage, aggression, wi...</td>\n",
              "      <td>[(father, RB), (suffering, VBG), (end, NN), (s...</td>\n",
              "      <td>[(father, r), (suffering, v), (end, n), (stage...</td>\n",
              "    </tr>\n",
              "    <tr>\n",
              "      <th>2</th>\n",
              "      <td>last chemo was today :)</td>\n",
              "      <td>just finished my last of 12 abvd infusions. I ...</td>\n",
              "      <td>9.0</td>\n",
              "      <td>[last, chemo, today, finished, last, abvd, inf...</td>\n",
              "      <td>last chemo today finished last abvd infusions ...</td>\n",
              "      <td>[last, chemo, today, finished, last, abvd, inf...</td>\n",
              "      <td>[(last, JJ), (chemo, NN), (today, NN), (finish...</td>\n",
              "      <td>[(last, a), (chemo, n), (today, n), (finished,...</td>\n",
              "    </tr>\n",
              "    <tr>\n",
              "      <th>3</th>\n",
              "      <td>ER phobia?</td>\n",
              "      <td>Have any of your loved ones checked out of the...</td>\n",
              "      <td>7.0</td>\n",
              "      <td>[er, phobia, loved, ones, checked, hospital, a...</td>\n",
              "      <td>er phobia loved ones checked hospital ama medi...</td>\n",
              "      <td>[er, phobia, loved, ones, checked, hospital, a...</td>\n",
              "      <td>[(er, NN), (phobia, NN), (loved, VBD), (ones, ...</td>\n",
              "      <td>[(er, n), (phobia, n), (loved, v), (ones, n), ...</td>\n",
              "    </tr>\n",
              "    <tr>\n",
              "      <th>4</th>\n",
              "      <td>8 minutes into his appointment, another scene ...</td>\n",
              "      <td>At this point it’s just funny to me. I’m not t...</td>\n",
              "      <td>1.0</td>\n",
              "      <td>[minutes, appointment, another, scene, made, p...</td>\n",
              "      <td>minutes appointment another scene made plus ho...</td>\n",
              "      <td>[minutes, appointment, another, scene, made, p...</td>\n",
              "      <td>[(minutes, NNS), (appointment, VBP), (another,...</td>\n",
              "      <td>[(minutes, n), (appointment, v), (another, n),...</td>\n",
              "    </tr>\n",
              "  </tbody>\n",
              "</table>\n",
              "</div>"
            ],
            "text/plain": [
              "                                               title  ...                                        wordnet_pos\n",
              "0                                    Fuck that Bell!  ...  [(fuck, n), (bell, n), (sorry, a), (title, n),...\n",
              "1  Father suffering from end stage aggression. Wo...  ...  [(father, r), (suffering, v), (end, n), (stage...\n",
              "2                            last chemo was today :)  ...  [(last, a), (chemo, n), (today, n), (finished,...\n",
              "3                                         ER phobia?  ...  [(er, n), (phobia, n), (loved, v), (ones, n), ...\n",
              "4  8 minutes into his appointment, another scene ...  ...  [(minutes, n), (appointment, v), (another, n),...\n",
              "\n",
              "[5 rows x 8 columns]"
            ]
          },
          "metadata": {
            "tags": []
          },
          "execution_count": 23
        }
      ]
    },
    {
      "cell_type": "code",
      "metadata": {
        "id": "JPyWyfpNaNSn",
        "colab": {
          "base_uri": "https://localhost:8080/",
          "height": 510
        },
        "outputId": "2b3241ad-10c3-4fdd-c6b6-564ef1e14e19"
      },
      "source": [
        "#Lemmatization\n",
        "wnl = WordNetLemmatizer()\n",
        "df['lemmatized'] = df['wordnet_pos'].apply(lambda x: [wnl.lemmatize(word, tag) for word, tag in x])\n",
        "df.head()"
      ],
      "execution_count": null,
      "outputs": [
        {
          "output_type": "execute_result",
          "data": {
            "text/html": [
              "<div>\n",
              "<style scoped>\n",
              "    .dataframe tbody tr th:only-of-type {\n",
              "        vertical-align: middle;\n",
              "    }\n",
              "\n",
              "    .dataframe tbody tr th {\n",
              "        vertical-align: top;\n",
              "    }\n",
              "\n",
              "    .dataframe thead th {\n",
              "        text-align: right;\n",
              "    }\n",
              "</style>\n",
              "<table border=\"1\" class=\"dataframe\">\n",
              "  <thead>\n",
              "    <tr style=\"text-align: right;\">\n",
              "      <th></th>\n",
              "      <th>title</th>\n",
              "      <th>body</th>\n",
              "      <th>label</th>\n",
              "      <th>clean_body</th>\n",
              "      <th>clean_body_str</th>\n",
              "      <th>tokenized</th>\n",
              "      <th>pos_tags</th>\n",
              "      <th>wordnet_pos</th>\n",
              "      <th>lemmatized</th>\n",
              "    </tr>\n",
              "  </thead>\n",
              "  <tbody>\n",
              "    <tr>\n",
              "      <th>0</th>\n",
              "      <td>Fuck that Bell!</td>\n",
              "      <td>Sorry for the title, but I wish the bell ringi...</td>\n",
              "      <td>6.0</td>\n",
              "      <td>[fuck, bell, sorry, title, wish, bell, ringing...</td>\n",
              "      <td>fuck bell sorry title wish bell ringing party ...</td>\n",
              "      <td>[fuck, bell, sorry, title, wish, bell, ringing...</td>\n",
              "      <td>[(fuck, NN), (bell, NN), (sorry, JJ), (title, ...</td>\n",
              "      <td>[(fuck, n), (bell, n), (sorry, a), (title, n),...</td>\n",
              "      <td>[fuck, bell, sorry, title, wish, bell, ring, p...</td>\n",
              "    </tr>\n",
              "    <tr>\n",
              "      <th>1</th>\n",
              "      <td>Father suffering from end stage aggression. Wo...</td>\n",
              "      <td>My dad was diagnosed with stage 4 bone cancer ...</td>\n",
              "      <td>7.0</td>\n",
              "      <td>[father, suffering, end, stage, aggression, wi...</td>\n",
              "      <td>father suffering end stage aggression will not...</td>\n",
              "      <td>[father, suffering, end, stage, aggression, wi...</td>\n",
              "      <td>[(father, RB), (suffering, VBG), (end, NN), (s...</td>\n",
              "      <td>[(father, r), (suffering, v), (end, n), (stage...</td>\n",
              "      <td>[father, suffer, end, stage, aggression, will,...</td>\n",
              "    </tr>\n",
              "    <tr>\n",
              "      <th>2</th>\n",
              "      <td>last chemo was today :)</td>\n",
              "      <td>just finished my last of 12 abvd infusions. I ...</td>\n",
              "      <td>9.0</td>\n",
              "      <td>[last, chemo, today, finished, last, abvd, inf...</td>\n",
              "      <td>last chemo today finished last abvd infusions ...</td>\n",
              "      <td>[last, chemo, today, finished, last, abvd, inf...</td>\n",
              "      <td>[(last, JJ), (chemo, NN), (today, NN), (finish...</td>\n",
              "      <td>[(last, a), (chemo, n), (today, n), (finished,...</td>\n",
              "      <td>[last, chemo, today, finish, last, abvd, infus...</td>\n",
              "    </tr>\n",
              "    <tr>\n",
              "      <th>3</th>\n",
              "      <td>ER phobia?</td>\n",
              "      <td>Have any of your loved ones checked out of the...</td>\n",
              "      <td>7.0</td>\n",
              "      <td>[er, phobia, loved, ones, checked, hospital, a...</td>\n",
              "      <td>er phobia loved ones checked hospital ama medi...</td>\n",
              "      <td>[er, phobia, loved, ones, checked, hospital, a...</td>\n",
              "      <td>[(er, NN), (phobia, NN), (loved, VBD), (ones, ...</td>\n",
              "      <td>[(er, n), (phobia, n), (loved, v), (ones, n), ...</td>\n",
              "      <td>[er, phobia, love, one, check, hospital, ama, ...</td>\n",
              "    </tr>\n",
              "    <tr>\n",
              "      <th>4</th>\n",
              "      <td>8 minutes into his appointment, another scene ...</td>\n",
              "      <td>At this point it’s just funny to me. I’m not t...</td>\n",
              "      <td>1.0</td>\n",
              "      <td>[minutes, appointment, another, scene, made, p...</td>\n",
              "      <td>minutes appointment another scene made plus ho...</td>\n",
              "      <td>[minutes, appointment, another, scene, made, p...</td>\n",
              "      <td>[(minutes, NNS), (appointment, VBP), (another,...</td>\n",
              "      <td>[(minutes, n), (appointment, v), (another, n),...</td>\n",
              "      <td>[minute, appointment, another, scene, make, pl...</td>\n",
              "    </tr>\n",
              "  </tbody>\n",
              "</table>\n",
              "</div>"
            ],
            "text/plain": [
              "                                               title  ...                                         lemmatized\n",
              "0                                    Fuck that Bell!  ...  [fuck, bell, sorry, title, wish, bell, ring, p...\n",
              "1  Father suffering from end stage aggression. Wo...  ...  [father, suffer, end, stage, aggression, will,...\n",
              "2                            last chemo was today :)  ...  [last, chemo, today, finish, last, abvd, infus...\n",
              "3                                         ER phobia?  ...  [er, phobia, love, one, check, hospital, ama, ...\n",
              "4  8 minutes into his appointment, another scene ...  ...  [minute, appointment, another, scene, make, pl...\n",
              "\n",
              "[5 rows x 9 columns]"
            ]
          },
          "metadata": {
            "tags": []
          },
          "execution_count": 24
        }
      ]
    },
    {
      "cell_type": "code",
      "metadata": {
        "id": "FfYVhnWcgMir"
      },
      "source": [
        "df.to_pickle(\"Reddit_dataset_clean.pkl\")"
      ],
      "execution_count": null,
      "outputs": []
    },
    {
      "cell_type": "code",
      "metadata": {
        "id": "Uau6VNs0abEh"
      },
      "source": [
        "df.to_csv('Reddit_dataset_clean_labelled.csv')"
      ],
      "execution_count": null,
      "outputs": []
    }
  ]
}
